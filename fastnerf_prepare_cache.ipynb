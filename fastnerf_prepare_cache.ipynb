{
 "cells": [
  {
   "cell_type": "code",
   "execution_count": 1,
   "id": "72376910",
   "metadata": {},
   "outputs": [],
   "source": [
    "import numpy as np"
   ]
  },
  {
   "cell_type": "code",
   "execution_count": 2,
   "id": "86773c37",
   "metadata": {},
   "outputs": [],
   "source": [
    "from nerf.network import NeTFMLP4 as NeRFNetwork "
   ]
  },
  {
   "cell_type": "code",
   "execution_count": 3,
   "id": "2d991f52",
   "metadata": {},
   "outputs": [],
   "source": [
    "class AttrDict(dict):\n",
    "    def __init__(self, *args, **kwargs):\n",
    "        super(AttrDict, self).__init__(*args, **kwargs)\n",
    "        self.__dict__ = self"
   ]
  },
  {
   "cell_type": "code",
   "execution_count": 10,
   "id": "64e13c6e",
   "metadata": {},
   "outputs": [],
   "source": [
    "opt = AttrDict(dict(\n",
    "    bound=4,\n",
    "    bg_radius=2\n",
    "))"
   ]
  },
  {
   "cell_type": "code",
   "execution_count": 11,
   "id": "bfbcd522",
   "metadata": {},
   "outputs": [],
   "source": [
    "model = NeRFNetwork(\n",
    "    encoding=\"hashgrid\",\n",
    "    bound=opt.bound,\n",
    "    cuda_ray=False,\n",
    "    density_scale=1,\n",
    "    min_near=0.2,\n",
    "    density_thresh=10,\n",
    "    bg_radius=opt.bg_radius,\n",
    ")\n"
   ]
  },
  {
   "cell_type": "code",
   "execution_count": 12,
   "id": "9a14acee",
   "metadata": {},
   "outputs": [],
   "source": [
    "import torch"
   ]
  },
  {
   "cell_type": "code",
   "execution_count": 13,
   "id": "a6838acb",
   "metadata": {},
   "outputs": [
    {
     "data": {
      "text/plain": [
       "device(type='cuda')"
      ]
     },
     "execution_count": 13,
     "metadata": {},
     "output_type": "execute_result"
    }
   ],
   "source": [
    "device = torch.device('cuda' if torch.cuda.is_available() else 'cpu')\n",
    "device"
   ]
  },
  {
   "cell_type": "code",
   "execution_count": 14,
   "id": "cd4ea84d",
   "metadata": {},
   "outputs": [],
   "source": [
    "checkpoint_dict = torch.load(\"trial_nerf_resnet/checkpoints/ngp_ep0348.pth\", map_location=device)"
   ]
  },
  {
   "cell_type": "code",
   "execution_count": 15,
   "id": "e57f1352",
   "metadata": {},
   "outputs": [],
   "source": [
    "missing_keys, unexpected_keys = model.load_state_dict(checkpoint_dict['model'], strict=False)"
   ]
  },
  {
   "cell_type": "code",
   "execution_count": 18,
   "id": "3c1fdd89",
   "metadata": {},
   "outputs": [],
   "source": [
    "bound = 1\n",
    "N = 512\n",
    "x_ = np.linspace(-bound, bound, N)\n",
    "y_ = np.linspace(-bound, bound, N)\n",
    "z_ = np.linspace(-bound, bound, N)\n",
    "x, y, z = np.meshgrid(x_, y_, z_, indexing='ij')\n",
    "X = np.stack([x, y, z], axis=-1).reshape((-1, 3))"
   ]
  },
  {
   "cell_type": "code",
   "execution_count": 19,
   "id": "712273da",
   "metadata": {},
   "outputs": [
    {
     "data": {
      "text/plain": [
       "(134217728, 3)"
      ]
     },
     "execution_count": 19,
     "metadata": {},
     "output_type": "execute_result"
    }
   ],
   "source": [
    "X.shape"
   ]
  },
  {
   "cell_type": "code",
   "execution_count": 20,
   "id": "7334dd72",
   "metadata": {},
   "outputs": [],
   "source": [
    "bound = opt.bound\n",
    "N = 512\n",
    "alpha_ = np.linspace(0, 2 * np.pi, N)\n",
    "beta_ = np.linspace(0, 2 * np.pi, N)\n",
    "alpha, beta = np.meshgrid(alpha_, beta_, indexing='ij')\n",
    "x = np.cos(alpha) * np.cos(beta);\n",
    "z = np.sin(alpha) * np.cos(beta);\n",
    "y = np.sin(beta);\n",
    "D = np.stack([x, y, z], axis=-1).reshape((-1, 3))"
   ]
  },
  {
   "cell_type": "code",
   "execution_count": 21,
   "id": "e5c65fd6",
   "metadata": {},
   "outputs": [
    {
     "data": {
      "text/plain": [
       "(262144, 3)"
      ]
     },
     "execution_count": 21,
     "metadata": {},
     "output_type": "execute_result"
    }
   ],
   "source": [
    "D.shape"
   ]
  },
  {
   "cell_type": "code",
   "execution_count": 22,
   "id": "936fa270",
   "metadata": {},
   "outputs": [],
   "source": [
    "model = model.to(device)"
   ]
  },
  {
   "cell_type": "code",
   "execution_count": 23,
   "id": "eeab6b3e",
   "metadata": {},
   "outputs": [
    {
     "data": {
      "text/plain": [
       "torch.float16"
      ]
     },
     "execution_count": 23,
     "metadata": {},
     "output_type": "execute_result"
    }
   ],
   "source": [
    "torch.tensor(X[:10].astype(np.float16)).to(device).dtype"
   ]
  },
  {
   "cell_type": "code",
   "execution_count": 24,
   "id": "85e9fdd7",
   "metadata": {},
   "outputs": [],
   "source": [
    "batch = 2**16"
   ]
  },
  {
   "cell_type": "code",
   "execution_count": 25,
   "id": "b6191cde",
   "metadata": {},
   "outputs": [],
   "source": [
    "from tqdm.auto import tqdm"
   ]
  },
  {
   "cell_type": "code",
   "execution_count": 26,
   "id": "bf6a4f23",
   "metadata": {},
   "outputs": [
    {
     "data": {
      "application/vnd.jupyter.widget-view+json": {
       "model_id": "bcdaf7c20f034042beb20a3d22a582d2",
       "version_major": 2,
       "version_minor": 0
      },
      "text/plain": [
       "  0%|          | 0/2048 [00:00<?, ?it/s]"
      ]
     },
     "metadata": {},
     "output_type": "display_data"
    }
   ],
   "source": [
    "results = []\n",
    "with torch.cuda.amp.autocast(enabled=True):\n",
    "    for k in tqdm(range(int(X.shape[0] / batch))):\n",
    "        h = model.encoder(torch.tensor(X[k * batch:(k + 1) * batch].astype(np.float32)).to(device))\n",
    "        for l in model.sigma_net:\n",
    "            h = l(h)\n",
    "            \n",
    "        results.append(h.detach().cpu().numpy())"
   ]
  },
  {
   "cell_type": "code",
   "execution_count": 27,
   "id": "23dc34b7",
   "metadata": {},
   "outputs": [
    {
     "data": {
      "text/plain": [
       "(134217728, 3)"
      ]
     },
     "execution_count": 27,
     "metadata": {},
     "output_type": "execute_result"
    }
   ],
   "source": [
    "X.shape"
   ]
  },
  {
   "cell_type": "code",
   "execution_count": 28,
   "id": "aa11cce1",
   "metadata": {},
   "outputs": [
    {
     "data": {
      "text/plain": [
       "(134217728, 8)"
      ]
     },
     "execution_count": 28,
     "metadata": {},
     "output_type": "execute_result"
    }
   ],
   "source": [
    "np.vstack(results).shape"
   ]
  },
  {
   "cell_type": "code",
   "execution_count": 29,
   "id": "32545856",
   "metadata": {},
   "outputs": [],
   "source": [
    "results_pos = np.vstack(results).reshape([512, 512, 512, -1])"
   ]
  },
  {
   "cell_type": "code",
   "execution_count": 30,
   "id": "a935c375",
   "metadata": {},
   "outputs": [],
   "source": [
    " with open(\"cache_pos.npy\", \"wb\") as f:\n",
    "    np.save(f, results_pos, allow_pickle=False)"
   ]
  },
  {
   "cell_type": "code",
   "execution_count": 31,
   "id": "6a8e91f9",
   "metadata": {},
   "outputs": [],
   "source": [
    " with open(\"cache_pos_32.npy\", \"wb\") as f:\n",
    "    np.save(f, results_pos.astype(np.float32), allow_pickle=False)"
   ]
  },
  {
   "cell_type": "code",
   "execution_count": 32,
   "id": "03403b4b",
   "metadata": {},
   "outputs": [],
   "source": [
    " with open(\"cache_pos_32_p1.npy\", \"wb\") as f:\n",
    "    np.save(f, results_pos[:, :, :, :4].astype(np.float32), allow_pickle=False)"
   ]
  },
  {
   "cell_type": "code",
   "execution_count": 33,
   "id": "24f21f44",
   "metadata": {},
   "outputs": [],
   "source": [
    " with open(\"cache_pos_32_p2.npy\", \"wb\") as f:\n",
    "    np.save(f, results_pos[:, :, :,4:].astype(np.float32), allow_pickle=False)"
   ]
  },
  {
   "cell_type": "code",
   "execution_count": 37,
   "id": "717c03f6",
   "metadata": {},
   "outputs": [
    {
     "data": {
      "application/vnd.jupyter.widget-view+json": {
       "model_id": "9abe81bc46204ff2a57ce49976c2c7c9",
       "version_major": 2,
       "version_minor": 0
      },
      "text/plain": [
       "  0%|          | 0/4 [00:00<?, ?it/s]"
      ]
     },
     "metadata": {},
     "output_type": "display_data"
    }
   ],
   "source": [
    "results_dir = []\n",
    "with torch.cuda.amp.autocast(enabled=True):\n",
    "    for k in tqdm(range(int(D.shape[0] / batch))):\n",
    "        h = model.encoder_dir(torch.tensor(D[k * batch:(k + 1) * batch].astype(np.float32)).to(device))\n",
    "        for l in model.gamma_net:\n",
    "            h = l(h)\n",
    "            \n",
    "        results_dir.append(h.detach().cpu().numpy())"
   ]
  },
  {
   "cell_type": "code",
   "execution_count": 38,
   "id": "a34668fd",
   "metadata": {},
   "outputs": [
    {
     "data": {
      "text/plain": [
       "262144"
      ]
     },
     "execution_count": 38,
     "metadata": {},
     "output_type": "execute_result"
    }
   ],
   "source": [
    "D.shape[0]"
   ]
  },
  {
   "cell_type": "code",
   "execution_count": 39,
   "id": "8260ae2f",
   "metadata": {},
   "outputs": [
    {
     "data": {
      "text/plain": [
       "(262144, 8)"
      ]
     },
     "execution_count": 39,
     "metadata": {},
     "output_type": "execute_result"
    }
   ],
   "source": [
    "np.vstack(results_dir).shape"
   ]
  },
  {
   "cell_type": "code",
   "execution_count": 40,
   "id": "75e6c73b",
   "metadata": {},
   "outputs": [],
   "source": [
    "results_dir_ = np.vstack(results_dir).reshape([512, 512, -1])"
   ]
  },
  {
   "cell_type": "code",
   "execution_count": 41,
   "id": "b8d77ad7",
   "metadata": {},
   "outputs": [
    {
     "data": {
      "text/plain": [
       "(512, 512, 8)"
      ]
     },
     "execution_count": 41,
     "metadata": {},
     "output_type": "execute_result"
    }
   ],
   "source": [
    "results_dir_.shape"
   ]
  },
  {
   "cell_type": "code",
   "execution_count": 29,
   "id": "9d03c1a1",
   "metadata": {},
   "outputs": [],
   "source": [
    " with open(\"cache_dir.npy\", \"wb\") as f:\n",
    "    np.save(f, results_dir_, allow_pickle=False)"
   ]
  },
  {
   "cell_type": "code",
   "execution_count": 30,
   "id": "56211c60",
   "metadata": {},
   "outputs": [],
   "source": [
    " with open(\"cache_dir_32.npy\", \"wb\") as f:\n",
    "    np.save(f, results_dir_.astype(np.float32), allow_pickle=False)"
   ]
  },
  {
   "cell_type": "code",
   "execution_count": 43,
   "id": "b3ee5697",
   "metadata": {},
   "outputs": [],
   "source": [
    " with open(\"cache_dir_32_p1.npy\", \"wb\") as f:\n",
    "    np.save(f, results_dir_[:, :, :4].astype(np.float32), allow_pickle=False)"
   ]
  },
  {
   "cell_type": "code",
   "execution_count": 44,
   "id": "2571482d",
   "metadata": {},
   "outputs": [],
   "source": [
    " with open(\"cache_dir_32_p2.npy\", \"wb\") as f:\n",
    "    np.save(f, results_dir_[:, :, 4:].astype(np.float32), allow_pickle=False)"
   ]
  },
  {
   "cell_type": "code",
   "execution_count": null,
   "id": "60b1356e",
   "metadata": {},
   "outputs": [],
   "source": []
  }
 ],
 "metadata": {
  "kernelspec": {
   "display_name": "Python 3 (ipykernel)",
   "language": "python",
   "name": "python3"
  },
  "language_info": {
   "codemirror_mode": {
    "name": "ipython",
    "version": 3
   },
   "file_extension": ".py",
   "mimetype": "text/x-python",
   "name": "python",
   "nbconvert_exporter": "python",
   "pygments_lexer": "ipython3",
   "version": "3.8.0"
  }
 },
 "nbformat": 4,
 "nbformat_minor": 5
}
